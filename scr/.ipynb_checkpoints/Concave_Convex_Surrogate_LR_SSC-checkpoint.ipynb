{
 "cells": [
  {
   "cell_type": "code",
   "execution_count": null,
   "metadata": {},
   "outputs": [],
   "source": [
    "import numpy as np\n",
    "import cplex\n",
    "import random"
   ]
  },
  {
   "cell_type": "code",
   "execution_count": null,
   "metadata": {},
   "outputs": [],
   "source": [
    "def get_job_to_position(variable_names):\n",
    "    job_to_position_onlyone = []\n",
    "    for i in range((n_stage - 1) * n_job):\n",
    "        job_to_position_onlyone.append([variable_names[i * n_job : (i + 1) * n_job], [1] * n_job])\n",
    "    return job_to_position_onlyone  "
   ]
  },
  {
   "cell_type": "code",
   "execution_count": null,
   "metadata": {},
   "outputs": [],
   "source": [
    "n_dim = (n_stage - 1) * n_job * n_job\n",
    "variable_names = ['x'+ str(i) for i in range(n_dim)]\n",
    "job_to_position_onlyone = get_job_to_position(variable_names)\n",
    "print(len(job_to_position_onlyone))\n",
    "print(job_to_position_onlyone)"
   ]
  },
  {
   "cell_type": "code",
   "execution_count": null,
   "metadata": {},
   "outputs": [],
   "source": [
    "def get_position_to_job(variable_names):\n",
    "    position_to_job_onlyone = []\n",
    "    for j in range(n_stage - 1):\n",
    "        for i in range(n_job):\n",
    "            position_to_job_onlyone.append([variable_names[j * (n_job**2) + i: (j + 1) * (n_job**2): n_job], [1] * n_job])\n",
    "    return position_to_job_onlyone"
   ]
  },
  {
   "cell_type": "code",
   "execution_count": null,
   "metadata": {},
   "outputs": [],
   "source": [
    "n_dim = (n_stage - 1) * n_job * n_job\n",
    "variable_names = ['x'+ str(i) for i in range(n_dim)]\n",
    "position_to_job_onlyone = get_position_to_job(variable_names)\n",
    "print(len(position_to_job_onlyone))\n",
    "print(position_to_job_onlyone)"
   ]
  },
  {
   "cell_type": "code",
   "execution_count": null,
   "metadata": {},
   "outputs": [],
   "source": [
    "def solve_LP_TU():\n",
    "    Lagrangian_LP_TU = cplex.Cplex()\n",
    "    Lagrangian_LP_TU.objective.set_sense(Lagrangian_LP_TU.objective.sense.maximize)\n",
    "    n_dim = (n_stage - 1) * n_job * n_job\n",
    "    LP_TU_obj = [random.random() for i in range(n_dim)]\n",
    "    variable_names = ['x'+ str(i) for i in range(n_dim)]\n",
    "    ub = [1] * n_dim\n",
    "    \n",
    "    Lagrangian_LP_TU.variables.add(obj = LP_TU_obj, ub = ub, names = variable_names)    \n",
    "    \n",
    "    constraints_rows = get_job_to_position(variable_names) + get_position_to_job(variable_names)\n",
    "    n_constraints = len(constraints_rows)\n",
    "    senses = 'E'* n_constraints\n",
    "    rhs = [1] * n_constraints\n",
    "    row_names = ['c'+ str(i) for i in range(n_constraints)]\n",
    "    print(\"the dimension of x:\", n_dim, \"the number of constraints:\", n_constraints)\n",
    "    Lagrangian_LP_TU.linear_constraints.add(lin_expr = constraints_rows, senses = senses, rhs = rhs, names = row_names)\n",
    "    Lagrangian_LP_TU.solve()\n",
    "    Lagrangian_LP_TU.write('Lagrangian_LP_TU.lp')\n",
    "    return Lagrangian_LP_TU\n",
    "    "
   ]
  },
  {
   "cell_type": "code",
   "execution_count": null,
   "metadata": {},
   "outputs": [],
   "source": [
    "def output_LP_result(my_prob):\n",
    "    x_solution = []\n",
    "    for i, x in enumerate(my_prob.solution.get_values()):\n",
    "        x_solution.append(x)\n",
    "    with open('decisionvariable_x.txt', 'w') as f:\n",
    "        for i in range(n_job * n_stage):\n",
    "            f.write(str(x_solution[i * n_job:(i + 1) * n_job]))\n",
    "            f.write('\\n')        "
   ]
  },
  {
   "cell_type": "code",
   "execution_count": null,
   "metadata": {},
   "outputs": [],
   "source": [
    "n_stage, pcast, n_batch, n_machine_perstage = 3, 5, 3, 3\n",
    "stage_name = ['steelmaking', 'refining', 'casting']\n",
    "n_machine = dict(zip(stage_name, [n_machine_perstage for i in range(n_stage)]))\n",
    "n_job = pcast * n_batch * n_machine['steelmaking']\n",
    "\n",
    "processtime = [14 * random.random() + 36 for i in range(n_job * n_stage)]\n",
    "transittime = dict(zip([stage_name[i] + 'to' + stage_name[i+1] for i in range(n_stage - 1)], [3 * random.random() + 3 for i in range(n_stage - 1)]))\n",
    "su = 80\n",
    "duedate = [0 for i in range(pcast * n_machine['casting'])]\n",
    "\n",
    "penalty_coeff = 10\n",
    "d_coeff = {'d1': 10, 'd2': 110}\n",
    "coeff = [10 + 20 * i for i in range(n_stage - 1)]\n",
    "\n",
    "assert(len(stage_name) == n_stage)\n",
    "print(\"Number of stage:\", n_stage)\n",
    "print(\"Cast number of per machine:\", pcast)\n",
    "print(\"Number of machine per stage:\", n_batch)\n",
    "print('Number of machine:', n_machine)\n",
    "print('Number of job:', n_job)\n",
    "print('transfer time:', transittime)\n",
    "\n",
    "n_position = dict(zip(stage_name[0:n_stage - 1], [n_job / n_machine['steelmaking'] ] * (n_stage - 1)))\n",
    "print('n_position = ', n_position)\n",
    "assert(len(n_machine) == n_stage)\n",
    "assert(len(n_position) == n_stage - 1)"
   ]
  },
  {
   "cell_type": "code",
   "execution_count": null,
   "metadata": {},
   "outputs": [],
   "source": [
    "Lagrangian_LP_TU = solve_LP_TU()\n",
    "output_LP_result(Lagrangian_LP_TU)"
   ]
  },
  {
   "cell_type": "code",
   "execution_count": null,
   "metadata": {},
   "outputs": [],
   "source": [
    "def get_preceding_transfer_constraints(variablenames):\n",
    "    preceding_transfer_constraints = []\n",
    "    for i in range(n_job * (n_stage - 1)):\n",
    "        preceding_transfer_constraints.append([[variablenames[i], variablenames[i + n_job]], [1, -1]])\n",
    "\n",
    "    rhs_transittime, rhs_processtime = [], processtime[0: n_job * (n_stage - 1)]\n",
    "    for key in transittime:\n",
    "        rhs_transittime += [transittime[key]] * n_job\n",
    "    rhs = [ - processtime[i] - rhs_transittime[i] for i in range(n_job * (n_stage - 1))]\n",
    "    return preceding_transfer_constraints, rhs, rhs_processtime, rhs_transittime"
   ]
  },
  {
   "cell_type": "code",
   "execution_count": null,
   "metadata": {},
   "outputs": [],
   "source": [
    "n_dim = n_job * n_stage + 2 * pcast * n_machine['casting']\n",
    "variablenames = ['t' + str(i)  for i in range(n_dim)]\n",
    "preceding_transfer_constraints, rhs_preceding_transfer, rhs_processtime, rhs_transittime = get_preceding_transfer_constraints(variablenames)\n",
    "print(preceding_transfer_constraints)\n",
    "print(rhs_processtime)\n",
    "print(len(rhs_processtime))\n",
    "print(rhs_transittime)\n",
    "print(len(rhs_transittime))\n",
    "print(rhs_preceding_transfer)\n",
    "print(len(rhs_preceding_transfer))"
   ]
  },
  {
   "cell_type": "code",
   "execution_count": null,
   "metadata": {},
   "outputs": [],
   "source": [
    "def get_process_continuous_constraints(variablenames):\n",
    "    process_continuous, adjacent_casts = [], []\n",
    "    rhs_continuous_processtime, rhs_adjacent_casts = [], []\n",
    "    assert(n_job * (n_stage - 1) % n_batch == 0)\n",
    "    for i in range(n_job * (n_stage - 1), n_job * n_stage - 1):\n",
    "        if (i + 1) % n_batch != 0:\n",
    "            process_continuous.append([[variablenames[i], variablenames[i + 1]], [-1, 1]])\n",
    "            rhs_continuous_processtime.append(processtime[i])\n",
    "        else:\n",
    "            if (i + 1) % (n_batch * pcast) != 0:\n",
    "                adjacent_casts.append([[variablenames[i], variablenames[i + 1]], [-1, 1]])\n",
    "                rhs_adjacent_casts.append(- processtime[i] - su)\n",
    "    return process_continuous, adjacent_casts, rhs_continuous_processtime, rhs_adjacent_casts        "
   ]
  },
  {
   "cell_type": "code",
   "execution_count": null,
   "metadata": {},
   "outputs": [],
   "source": [
    "n_dim = n_job * n_stage + 2 * pcast * n_machine['steelmaking']\n",
    "variablenames = ['t' + str(i)  for i in range(n_dim)]\n",
    "process_continuous_constraints, adjacent_casts_constraints, rhs_continuous_processtime, rhs_adjacent_casts = get_process_continuous_constraints(variablenames)\n",
    "print(process_continuous_constraints)\n",
    "print(rhs_continuous_processtime)\n",
    "print(adjacent_casts_constraints)\n",
    "print(rhs_adjacent_casts)"
   ]
  },
  {
   "cell_type": "code",
   "execution_count": null,
   "metadata": {},
   "outputs": [],
   "source": [
    "def get_additional_constraints(variablenames):\n",
    "    additional_constraints = []\n",
    "    index = n_job * n_stage\n",
    "    index_start = pcast * n_machine['casting']\n",
    "    assert(n_job * (n_stage - 1) % n_batch == 0 and (index % n_batch == 0))\n",
    "    batch = 0\n",
    "    for i in range(n_job * (n_stage - 1), n_job * n_stage - 1):\n",
    "        if i % n_batch == 0:\n",
    "            additional_constraints.append([[variablenames[i], variablenames[index + batch], variablenames[index + batch + index_start]], [1, -1, 1]])\n",
    "            batch += 1\n",
    "    return additional_constraints            "
   ]
  },
  {
   "cell_type": "code",
   "execution_count": null,
   "metadata": {},
   "outputs": [],
   "source": [
    "n_dim = n_job * n_stage + 2 * pcast * n_machine['steelmaking']\n",
    "print(n_job * n_stage, n_batch * n_machine['steelmaking'])\n",
    "variablenames = ['t' + str(i)  for i in range(n_dim)]\n",
    "print(get_additional_constraints(variablenames))"
   ]
  },
  {
   "cell_type": "code",
   "execution_count": null,
   "metadata": {},
   "outputs": [],
   "source": [
    "def get_duedate():\n",
    "    duedate = [0 for i in range(pcast * n_machine['casting'])]\n",
    "    duedate_start = [0 for i in range(n_machine['casting'])]\n",
    "    n_cast = pcast * n_machine['casting']\n",
    "    for i in range(n_machine['casting']):\n",
    "        index = 0\n",
    "        for key in transittime:\n",
    "            duedate_start[i] += processtime[i * n_cast + index * n_job] + transittime[key]\n",
    "            index += 1\n",
    "    print(duedate_start)\n",
    "    \n",
    "    for i in range(n_machine['casting']):\n",
    "        duedate[i * pcast] = duedate_start[i]\n",
    "        index_start = n_job * (n_stage - 1) + i * n_cast\n",
    "        for j in range(1, pcast):\n",
    "            duedate[i * pcast + j] = duedate[i * pcast + j - 1] + sum(processtime[index_start: index_start + n_batch]) + su\n",
    "            index_start = index_start + n_batch\n",
    "    return duedate"
   ]
  },
  {
   "cell_type": "code",
   "execution_count": null,
   "metadata": {},
   "outputs": [],
   "source": [
    "duedate = get_duedate()\n",
    "print(duedate)\n",
    "print(len(duedate))\n",
    "print(processtime)"
   ]
  },
  {
   "cell_type": "code",
   "execution_count": null,
   "metadata": {},
   "outputs": [],
   "source": [
    "def compute_obj_wait_time():\n",
    "    obj_wait_time = np.zeros((n_stage, n_job))\n",
    "    for i in range(n_stage - 1):\n",
    "        for j in range(n_job):\n",
    "            obj_wait_time[i + 1][j], obj_wait_time[i][j] = obj_wait_time[i + 1][j] + coeff[i], obj_wait_time[i][j] - coeff[i]\n",
    "    obj_wait_time = obj_wait_time.reshape(1, n_stage*n_job)\n",
    "    return np.hstack((obj_wait_time, np.zeros((1, n_dim - n_stage * n_job))))"
   ]
  },
  {
   "cell_type": "code",
   "execution_count": null,
   "metadata": {},
   "outputs": [],
   "source": [
    "n_dim = n_job * n_stage + 2 * pcast * n_machine['steelmaking']\n",
    "obj_wait_time = compute_obj_wait_time()\n",
    "print(obj_wait_time)\n",
    "print(obj_wait_time.shape)"
   ]
  },
  {
   "cell_type": "code",
   "execution_count": null,
   "metadata": {},
   "outputs": [],
   "source": [
    "def compute_obj_casting():\n",
    "    obj_casting = np.hstack((d_coeff['d1'] *  np.ones((1, pcast * n_machine['casting'])), d_coeff['d2'] * np.ones((1, pcast * n_machine['casting']))))\n",
    "    obj_casting = np.hstack((np.zeros((1, n_job * n_stage)), obj_casting))\n",
    "    return obj_casting"
   ]
  },
  {
   "cell_type": "code",
   "execution_count": null,
   "metadata": {},
   "outputs": [],
   "source": [
    "obj_casting = compute_obj_casting()\n",
    "print(obj_casting)\n",
    "print(obj_casting.shape)"
   ]
  },
  {
   "cell_type": "code",
   "execution_count": null,
   "metadata": {},
   "outputs": [],
   "source": [
    "n_dim = n_job * n_stage + 2 * pcast * n_machine['steelmaking']\n",
    "variablenames = ['t' + str(i)  for i in range(n_dim)]\n",
    "preceding_transfer_constraints, rhs_preceding_transfer, _, _ = get_preceding_transfer_constraints(variablenames)\n",
    "process_continuous_constraints, adjacent_casts_constraints, rhs_continuous_processtime, rhs_adjacent_casts = get_process_continuous_constraints(variablenames)\n",
    "additional_constraints = get_additional_constraints(variablenames)\n",
    "print(len(preceding_transfer_constraints), len(process_continuous_constraints), len(adjacent_casts_constraints), len(additional_constraints))"
   ]
  },
  {
   "cell_type": "code",
   "execution_count": null,
   "metadata": {},
   "outputs": [],
   "source": [
    "def solve_QP_tstart():\n",
    "    p = cplex.Cplex()\n",
    "    p.objective.set_sense(p.objective.sense.maximize)\n",
    "    \n",
    "    n_dim = n_job * n_stage + 2 * pcast * n_machine['steelmaking']\n",
    "    obj = [1.0 for i in range(n_dim)]\n",
    "    ub   = [cplex.infinity] * n_dim\n",
    "    variablenames = ['t' + str(i)  for i in range(n_dim)]\n",
    "    p.variables.add(obj = obj, ub = ub, names = variablenames)\n",
    "    \n",
    "    qmat = []\n",
    "    for i in range(n_dim):\n",
    "        qmat.append([variablenames, [- 1 for i in range(n_dim)]])\n",
    "\n",
    "    p.objective.set_quadratic(qmat)\n",
    "    \n",
    "    preceding_transfer_constraints, rhs_preceding_transfer, _, _ = get_preceding_transfer_constraints(variablenames)\n",
    "    process_continuous_constraints, adjacent_casts_constraints, rhs_continuous_processtime, rhs_adjacent_casts = get_process_continuous_constraints(variablenames)\n",
    "    additional_constraints = get_additional_constraints(variablenames)\n",
    "    \n",
    "    rows = preceding_transfer_constraints + process_continuous_constraints + adjacent_casts_constraints + additional_constraints\n",
    "    rhs = rhs_preceding_transfer + rhs_continuous_processtime + rhs_adjacent_casts + duedate\n",
    "    \n",
    "    n_constraints = len(rows)\n",
    "    rownames = ['c' + str(i)  for i in range(n_constraints)]\n",
    "\n",
    "    senses = 'L' * len(preceding_transfer_constraints) + 'E' * len(process_continuous_constraints) + 'L'* len(adjacent_casts_constraints) + 'E' * len(duedate)\n",
    "    assert(len(senses) == len(rows) and len(rows) == len(rhs))\n",
    "    p.linear_constraints.add(lin_expr = rows, senses = senses, rhs = rhs, names = rownames)\n",
    "\n",
    "    p.solve()\n",
    "    return p\n",
    "\n",
    "    \n",
    "def print_QP_results(p):\n",
    "\n",
    "    # solution.get_status() returns an integer code\n",
    "    print (\"Solution status = \" , p.solution.get_status(), \":\")\n",
    "    # the following line prints the corresponding string\n",
    "    print (p.solution.status[p.solution.get_status()])\n",
    "    print (\"Solution value  = \", p.solution.get_objective_value())\n",
    "\n",
    "    numrows = p.linear_constraints.get_num()\n",
    "\n",
    "    for i in range(numrows):\n",
    "        print (\"Row \", i, \":  \")\n",
    "        print (\"Slack = %10f \" %  p.solution.get_linear_slacks(i))\n",
    "        print (\"Pi = %10f\" % p.solution.get_dual_values(i))\n",
    "\n",
    "    numcols = p.variables.get_num()\n",
    "\n",
    "    for j in range(numcols):\n",
    "        print (\"Column \", j, \":  \")\n",
    "        print (\"Value = %10f \" % p.solution.get_values(j))\n",
    "        print (\"Reduced Cost = %10f\" % p.solution.get_reduced_costs(j))\n",
    "    p.write('qpex1.lp')"
   ]
  },
  {
   "cell_type": "code",
   "execution_count": null,
   "metadata": {},
   "outputs": [],
   "source": [
    "def output_QP_result(my_prob):\n",
    "    t_solution = []\n",
    "    for i, t in enumerate(my_prob.solution.get_values()):\n",
    "        t_solution.append(t)\n",
    "    with open('decisionvariable_time.txt', 'w') as f:\n",
    "        for j in range(n_stage):\n",
    "            for i in range(n_machine['casting']):\n",
    "                f.write(str(t_solution[i * n_job:(i + 1) * n_job]))\n",
    "            f.write('\\n')        "
   ]
  },
  {
   "cell_type": "code",
   "execution_count": null,
   "metadata": {},
   "outputs": [],
   "source": [
    "QP_tstart = solve_QP_tstart()"
   ]
  },
  {
   "cell_type": "code",
   "execution_count": null,
   "metadata": {},
   "outputs": [],
   "source": [
    "output_QP_result(QP_tstart)"
   ]
  },
  {
   "cell_type": "code",
   "execution_count": null,
   "metadata": {},
   "outputs": [],
   "source": [
    "lamba = np.zeros((n_job, n_job, n_stage, n_job))\n",
    "def compute_obj_f1():\n",
    "    obj_f1 = np.zeros((n_job, n_stage))\n",
    "    for i in range(n_job):\n",
    "        for it in range(n_job):\n",
    "            if i == it:\n",
    "                break\n",
    "            for j in range(n_stage):\n",
    "                for ws in range(n_job):\n",
    "                    obj_f1[i,j] = lamba[i,it,j,ws] * 1 \n",
    "    return np.hstack((obj_f1.reshape(1, obj_f1.size), np.zeros((1, n_dim - obj_f1.size))))"
   ]
  },
  {
   "cell_type": "code",
   "execution_count": null,
   "metadata": {},
   "outputs": [],
   "source": [
    "obj_f1 = compute_obj_f1()\n",
    "print(obj_f1)\n",
    "print(obj_f1.shape)"
   ]
  }
 ],
 "metadata": {
  "kernelspec": {
   "display_name": "Python 3",
   "language": "python",
   "name": "python3"
  },
  "language_info": {
   "codemirror_mode": {
    "name": "ipython",
    "version": 3
   },
   "file_extension": ".py",
   "mimetype": "text/x-python",
   "name": "python",
   "nbconvert_exporter": "python",
   "pygments_lexer": "ipython3",
   "version": "3.6.5"
  }
 },
 "nbformat": 4,
 "nbformat_minor": 2
}
