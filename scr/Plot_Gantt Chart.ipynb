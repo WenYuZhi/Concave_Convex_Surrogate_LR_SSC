{
 "cells": [
  {
   "cell_type": "code",
   "execution_count": 2,
   "metadata": {},
   "outputs": [
    {
     "data": {
      "image/png": "[encoded data removed]",
      "text/plain": [
       "<Figure size 432x216 with 1 Axes>"
      ]
     },
     "metadata": {},
     "output_type": "display_data"
    }
   ],
   "source": [
    "import pandas as pd\n",
    "import io\n",
    "import matplotlib.pyplot as plt\n",
    "plt.rcParams['font.sans-serif']=['SimHei'] # 用来正常显示中文标签  \n",
    "plt.rcParams['axes.unicode_minus']=False # 用来正常显示负号  \n",
    "\n",
    "height=16 # 柱体高度，设为2的整数倍，方便Y轴label居中，如果设的过大，柱体间的间距就看不到了，需要修改下面间隔为更大的值\n",
    "interval=4 # 柱体间的间隔\n",
    "colors = (\"turquoise\",\"crimson\",\"black\",\"red\",\"yellow\",\"green\",\"brown\",\"blue\") # 颜色，不够再加\n",
    "x_label=u\"调度时刻\" # 设置x轴label\n",
    "\n",
    "#df = pd.read_csv(io.StringIO(data), header=None, names=[\"Machine\", \"Start\", \"Finish\",\"Title\"] )\n",
    "df = pd.read_csv('data.csv', header=None, names=[\"Machine\", \"Start\", \"Finish\",\"Title\"])\n",
    "df[\"Diff\"] = df.Finish - df.Start\n",
    "fig,ax=plt.subplots(figsize=(6,3))\n",
    "labels=[]\n",
    "count=0;\n",
    "for i,machine in enumerate(df.groupby(\"Machine\")):\n",
    "    labels.append(machine[0])\n",
    "    data=machine[1]\n",
    "    for index,row in data.iterrows():\n",
    "        ax.broken_barh([(row[\"Start\"],row[\"Diff\"])], ((height+interval)*i+interval,height), facecolors=colors[i])\n",
    "        plt.text(row[\"Start\"], (height+interval)*(i+1),row['Title'],fontsize='x-small')  \n",
    "        if(row[\"Finish\"]>count):\n",
    "            count=row[\"Finish\"]\n",
    "ax.set_ylim(0, (height+interval)*len(labels)+interval)\n",
    "ax.set_xlim(0, count+2)\n",
    "ax.set_xlabel(x_label)\n",
    "#ax.set_yticks(range(interval+height/2,(height+interval)*len(labels),(height+interval)))\n",
    "ax.set_yticklabels(labels)\n",
    "#ax.grid(True) # 显示网格\n",
    "ax.xaxis.grid(True) # 只显示x轴网格\n",
    "#ax.yaxis.grid(True) # 只显示y轴网格\n",
    "plt.savefig('gantt.png',dpi=800)\n",
    "plt.show()\n"
   ]
  }
 ],
 "metadata": {
  "kernelspec": {
   "display_name": "Python 3",
   "language": "python",
   "name": "python3"
  },
  "language_info": {
   "codemirror_mode": {
    "name": "ipython",
    "version": 3
   },
   "file_extension": ".py",
   "mimetype": "text/x-python",
   "name": "python",
   "nbconvert_exporter": "python",
   "pygments_lexer": "ipython3",
   "version": "3.6.5"
  }
 },
 "nbformat": 4,
 "nbformat_minor": 2
}
