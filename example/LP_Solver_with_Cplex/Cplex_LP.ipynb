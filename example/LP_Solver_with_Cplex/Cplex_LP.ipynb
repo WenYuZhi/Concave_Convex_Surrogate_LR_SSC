{
 "cells": [
  {
   "cell_type": "code",
   "execution_count": 1,
   "metadata": {},
   "outputs": [],
   "source": [
    "def populatebycolumn(prob):\n",
    "    prob.objective.set_sense(prob.objective.sense.maximize)\n",
    "\n",
    "    prob.linear_constraints.add(rhs=my_rhs, senses=my_sense,\n",
    "                                names=my_rownames)\n",
    "\n",
    "    c = [[[0, 1], [-1.0, 1.0]],\n",
    "         [[0, 1], [1.0, -3.0]],\n",
    "         [[0, 1], [1.0, 1.0]]]\n",
    "\n",
    "    prob.variables.add(obj=my_obj, ub=my_ub, names=my_colnames,\n",
    "                       columns=c)"
   ]
  },
  {
   "cell_type": "code",
   "execution_count": 2,
   "metadata": {},
   "outputs": [],
   "source": [
    "def print_lp_result(my_prob):\n",
    "    for i, x in enumerate(my_prob.solution.get_values()):\n",
    "        print(my_prob.variables.get_names(i), x)\n",
    "    print (\"Solution value:   \",  my_prob.solution.get_objective_value())"
   ]
  },
  {
   "cell_type": "markdown",
   "metadata": {},
   "source": [
    "Maximize\n",
    "x1  + 2x2 + 3x3\n",
    "subject to\n",
    "–x1 +  x2 + x3 <= 20\n",
    " x1 – 3x2 + x3 <= 30\n",
    "with these bounds\n",
    "0 <= x1 <= 40\n",
    "0 <= x2 <= infinity\n",
    "0 <= x3 <= infinity"
   ]
  },
  {
   "cell_type": "code",
   "execution_count": 3,
   "metadata": {},
   "outputs": [
    {
     "name": "stdout",
     "output_type": "stream",
     "text": [
      "CPXPARAM_Read_DataCheck                          1\n",
      "Tried aggregator 1 time.\n",
      "No LP presolve or aggregator reductions.\n",
      "Presolve time = 0.00 sec. (0.00 ticks)\n",
      "\n",
      "Iteration log . . .\n",
      "Iteration:     1   Dual infeasibility =             0.000000\n",
      "Iteration:     2   Dual objective     =           202.500000\n"
     ]
    },
    {
     "ename": "TypeError",
     "evalue": "print_lp_result() missing 1 required positional argument: 'my_prob'",
     "output_type": "error",
     "traceback": [
      "\u001b[1;31m---------------------------------------------------------------------------\u001b[0m",
      "\u001b[1;31mTypeError\u001b[0m                                 Traceback (most recent call last)",
      "\u001b[1;32m<ipython-input-3-99eab3265a0c>\u001b[0m in \u001b[0;36m<module>\u001b[1;34m()\u001b[0m\n\u001b[0;32m     13\u001b[0m \u001b[0mpopulatebycolumn\u001b[0m\u001b[1;33m(\u001b[0m\u001b[0mmy_prob\u001b[0m\u001b[1;33m)\u001b[0m\u001b[1;33m\u001b[0m\u001b[0m\n\u001b[0;32m     14\u001b[0m \u001b[0mmy_prob\u001b[0m\u001b[1;33m.\u001b[0m\u001b[0msolve\u001b[0m\u001b[1;33m(\u001b[0m\u001b[1;33m)\u001b[0m\u001b[1;33m\u001b[0m\u001b[0m\n\u001b[1;32m---> 15\u001b[1;33m \u001b[0mprint_lp_result\u001b[0m\u001b[1;33m(\u001b[0m\u001b[1;33m)\u001b[0m\u001b[1;33m\u001b[0m\u001b[0m\n\u001b[0m\u001b[0;32m     16\u001b[0m \u001b[0mmy_prob\u001b[0m\u001b[1;33m.\u001b[0m\u001b[0mwrite\u001b[0m\u001b[1;33m(\u001b[0m\u001b[1;34m\"lpex1.lp\"\u001b[0m\u001b[1;33m)\u001b[0m\u001b[1;33m\u001b[0m\u001b[0m\n",
      "\u001b[1;31mTypeError\u001b[0m: print_lp_result() missing 1 required positional argument: 'my_prob'"
     ]
    }
   ],
   "source": [
    "import cplex\n",
    "from cplex.exceptions import CplexError\n",
    "\n",
    "# data common to all populateby functions\n",
    "my_obj = [1.0, 2.0, 3.0]\n",
    "my_ub = [40.0, cplex.infinity, cplex.infinity]\n",
    "my_colnames = [\"x1\", \"x2\", \"x3\"]\n",
    "my_rhs = [20.0, 30.0]\n",
    "my_rownames = [\"c1\", \"c2\"]\n",
    "my_sense = \"LL\"\n",
    "\n",
    "my_prob = cplex.Cplex()\n",
    "populatebycolumn(my_prob)\n",
    "my_prob.solve()\n",
    "print_lp_result()\n",
    "my_prob.write(\"lpex1.lp\")"
   ]
  },
  {
   "cell_type": "markdown",
   "metadata": {},
   "source": [
    "my_prob.write(\"lpex1.lp\") 可以把模型输出到 文件lpex1.lp\n",
    "下次需要求解同样的模型的时候 直接采用new_my_prob.read 可以直接导入模型"
   ]
  },
  {
   "cell_type": "code",
   "execution_count": 4,
   "metadata": {},
   "outputs": [
    {
     "name": "stderr",
     "output_type": "stream",
     "text": [
      "CPLEX Error  1423: Could not open file 'lpex1.lp' for reading.\n",
      "CPLEX Error  1423: Could not open file 'lpex1.lp.sav' for reading.\n",
      "CPLEX Error  1423: Could not open file 'lpex1.lp' for reading.\n",
      "CPLEX Error  1423: Could not open file 'lpex1.lp' for reading.\n"
     ]
    },
    {
     "ename": "CplexSolverError",
     "evalue": "CPLEX Error  1423: Could not open file 'lpex1.lp' for reading.",
     "output_type": "error",
     "traceback": [
      "\u001b[1;31m---------------------------------------------------------------------------\u001b[0m",
      "\u001b[1;31mCplexSolverError\u001b[0m                          Traceback (most recent call last)",
      "\u001b[1;32m<ipython-input-4-e59ae36602b9>\u001b[0m in \u001b[0;36m<module>\u001b[1;34m()\u001b[0m\n\u001b[0;32m      1\u001b[0m \u001b[0mnew_my_prob\u001b[0m \u001b[1;33m=\u001b[0m \u001b[0mcplex\u001b[0m\u001b[1;33m.\u001b[0m\u001b[0mCplex\u001b[0m\u001b[1;33m(\u001b[0m\u001b[1;33m)\u001b[0m\u001b[1;33m\u001b[0m\u001b[0m\n\u001b[1;32m----> 2\u001b[1;33m \u001b[0mnew_my_prob\u001b[0m\u001b[1;33m.\u001b[0m\u001b[0mread\u001b[0m\u001b[1;33m(\u001b[0m\u001b[1;34m'lpex1.lp'\u001b[0m\u001b[1;33m)\u001b[0m\u001b[1;33m\u001b[0m\u001b[0m\n\u001b[0m\u001b[0;32m      3\u001b[0m \u001b[0mnew_my_prob\u001b[0m\u001b[1;33m.\u001b[0m\u001b[0msolve\u001b[0m\u001b[1;33m(\u001b[0m\u001b[1;33m)\u001b[0m\u001b[1;33m\u001b[0m\u001b[0m\n",
      "\u001b[1;32mC:\\ProgramData\\Anaconda3\\lib\\site-packages\\cplex\\__init__.py\u001b[0m in \u001b[0;36mread\u001b[1;34m(self, filename, filetype)\u001b[0m\n\u001b[0;32m    855\u001b[0m         \"\"\"\n\u001b[0;32m    856\u001b[0m         _proc.readcopyprob(self._env._e, self._lp, filename, filetype,\n\u001b[1;32m--> 857\u001b[1;33m                            enc=self._env._apienc)\n\u001b[0m\u001b[0;32m    858\u001b[0m \u001b[1;33m\u001b[0m\u001b[0m\n\u001b[0;32m    859\u001b[0m     \u001b[1;32mdef\u001b[0m \u001b[0mwrite\u001b[0m\u001b[1;33m(\u001b[0m\u001b[0mself\u001b[0m\u001b[1;33m,\u001b[0m \u001b[0mfilename\u001b[0m\u001b[1;33m,\u001b[0m \u001b[0mfiletype\u001b[0m\u001b[1;33m=\u001b[0m\u001b[1;34m\"\"\u001b[0m\u001b[1;33m)\u001b[0m\u001b[1;33m:\u001b[0m\u001b[1;33m\u001b[0m\u001b[0m\n",
      "\u001b[1;32mC:\\ProgramData\\Anaconda3\\lib\\site-packages\\cplex\\_internal\\_procedural.py\u001b[0m in \u001b[0;36mreadcopyprob\u001b[1;34m(env, lp, filename, filetype, enc)\u001b[0m\n\u001b[0;32m    607\u001b[0m                                      \u001b[0mcpx_decode_noop3\u001b[0m\u001b[1;33m(\u001b[0m\u001b[0mfilename\u001b[0m\u001b[1;33m,\u001b[0m \u001b[0menc\u001b[0m\u001b[1;33m)\u001b[0m\u001b[1;33m,\u001b[0m\u001b[1;33m\u001b[0m\u001b[0m\n\u001b[0;32m    608\u001b[0m                                      cpx_decode_noop3(filetype, enc))\n\u001b[1;32m--> 609\u001b[1;33m     \u001b[0mcheck_status\u001b[0m\u001b[1;33m(\u001b[0m\u001b[0menv\u001b[0m\u001b[1;33m,\u001b[0m \u001b[0mstatus\u001b[0m\u001b[1;33m)\u001b[0m\u001b[1;33m\u001b[0m\u001b[0m\n\u001b[0m\u001b[0;32m    610\u001b[0m \u001b[1;33m\u001b[0m\u001b[0m\n\u001b[0;32m    611\u001b[0m \u001b[1;33m\u001b[0m\u001b[0m\n",
      "\u001b[1;32mC:\\ProgramData\\Anaconda3\\lib\\site-packages\\cplex\\_internal\\_procedural.py\u001b[0m in \u001b[0;36m__call__\u001b[1;34m(self, env, status, from_cb)\u001b[0m\n\u001b[0;32m    301\u001b[0m                 \u001b[1;32melse\u001b[0m\u001b[1;33m:\u001b[0m\u001b[1;33m\u001b[0m\u001b[0m\n\u001b[0;32m    302\u001b[0m                     \u001b[0merror_string\u001b[0m \u001b[1;33m=\u001b[0m \u001b[0mgeterrorstring\u001b[0m\u001b[1;33m(\u001b[0m\u001b[0menv\u001b[0m\u001b[1;33m,\u001b[0m \u001b[0mstatus\u001b[0m\u001b[1;33m)\u001b[0m\u001b[1;33m\u001b[0m\u001b[0m\n\u001b[1;32m--> 303\u001b[1;33m             \u001b[1;32mraise\u001b[0m \u001b[0mCplexSolverError\u001b[0m\u001b[1;33m(\u001b[0m\u001b[0merror_string\u001b[0m\u001b[1;33m,\u001b[0m \u001b[0menv\u001b[0m\u001b[1;33m,\u001b[0m \u001b[0mstatus\u001b[0m\u001b[1;33m)\u001b[0m\u001b[1;33m\u001b[0m\u001b[0m\n\u001b[0m\u001b[0;32m    304\u001b[0m \u001b[1;33m\u001b[0m\u001b[0m\n\u001b[0;32m    305\u001b[0m \u001b[1;33m\u001b[0m\u001b[0m\n",
      "\u001b[1;31mCplexSolverError\u001b[0m: CPLEX Error  1423: Could not open file 'lpex1.lp' for reading."
     ]
    }
   ],
   "source": [
    "new_my_prob = cplex.Cplex()\n",
    "new_my_prob.read('lpex1.lp')\n",
    "new_my_prob.solve()"
   ]
  },
  {
   "cell_type": "code",
   "execution_count": null,
   "metadata": {},
   "outputs": [],
   "source": [
    "def populatebyrow(prob):\n",
    "    prob.objective.set_sense(prob.objective.sense.maximize)\n",
    "\n",
    "    # since lower bounds are all 0.0 (the default), lb is omitted here\n",
    "    prob.variables.add(obj = my_obj, ub = my_ub, names = my_colnames)\n",
    "\n",
    "    # can query variables like the following:\n",
    "\n",
    "    # lbs is a list of all the lower bounds\n",
    "    lbs = prob.variables.get_lower_bounds()\n",
    "\n",
    "    # ub1 is just the first lower bound\n",
    "    ub1 = prob.variables.get_upper_bounds(0) \n",
    "\n",
    "    # names is [\"x1\", \"x3\"]\n",
    "    names = prob.variables.get_names([0, 2])\n",
    "\n",
    "    rows = [[[\"x1\",\"x2\",\"x3\"],[-1.0, 1.0,1.0]],\n",
    "            [[\"x1\",\"x2\",\"x3\"],[ 1.0,-3.0,1.0]]]\n",
    "\n",
    "    prob.linear_constraints.add(lin_expr = rows, senses = my_sense,\n",
    "                                rhs = my_rhs, names = my_rownames)\n",
    "\n",
    "    # because there are two arguments, they are taken to specify a range\n",
    "    # thus, cols is the entire constraint matrix as a list of column vectors\n",
    "    cols = prob.variables.get_cols(\"x1\", \"x3\")\n",
    "    alg = prob.parameters.lpmethod.values\n",
    "    prob.parameters.lpmethod.set(alg.auto)"
   ]
  },
  {
   "cell_type": "code",
   "execution_count": null,
   "metadata": {},
   "outputs": [],
   "source": [
    "import cplex\n",
    "from cplex.exceptions import CplexError\n",
    "\n",
    "# data common to all populateby functions\n",
    "my_obj = [1.0, 2.0, 3.0]\n",
    "my_ub = [40.0, cplex.infinity, cplex.infinity]\n",
    "my_colnames = [\"x1\", \"x2\", \"x3\"]\n",
    "my_rhs = [20.0, 30.0]\n",
    "my_rownames = [\"c1\", \"c2\"]\n",
    "my_sense = \"LL\"\n",
    "\n",
    "my_prob_row = cplex.Cplex()\n",
    "\n",
    "#alg = my_prob_row.parameters.lpmethod.values\n",
    "#my_prob_row.parameters.lpmethod.set(alg.primal)\n",
    "\n",
    "populatebyrow(my_prob_row)\n",
    "my_prob_row.solve()\n",
    "print_lp_result(my_prob_row)"
   ]
  }
 ],
 "metadata": {
  "kernelspec": {
   "display_name": "Python 3",
   "language": "python",
   "name": "python3"
  },
  "language_info": {
   "codemirror_mode": {
    "name": "ipython",
    "version": 3
   },
   "file_extension": ".py",
   "mimetype": "text/x-python",
   "name": "python",
   "nbconvert_exporter": "python",
   "pygments_lexer": "ipython3",
   "version": "3.6.5"
  }
 },
 "nbformat": 4,
 "nbformat_minor": 2
}
