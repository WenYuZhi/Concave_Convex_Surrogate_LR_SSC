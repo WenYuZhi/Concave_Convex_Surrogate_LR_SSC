{
 "cells": [
  {
   "cell_type": "code",
   "execution_count": 3,
   "metadata": {},
   "outputs": [
    {
     "name": "stdout",
     "output_type": "stream",
     "text": [
      "CPXPARAM_Read_DataCheck                          1\n",
      "CPXPARAM_LPMethod                                1\n",
      "Tried aggregator 1 time.\n",
      "No LP presolve or aggregator reductions.\n",
      "Presolve time = 0.00 sec. (0.00 ticks)\n",
      "\n",
      "Iteration log . . .\n",
      "Iteration:     1    Objective     =            60.000000\n"
     ]
    },
    {
     "name": "stderr",
     "output_type": "stream",
     "text": [
      "Default variable names x1, x2 ... being created.\n",
      "Default row names c1, c2 ... being created.\n"
     ]
    },
    {
     "name": "stdout",
     "output_type": "stream",
     "text": [
      "CB Iteration  1  : \n",
      "CB Objective =  60.0\n",
      "CB Iteration  2  : \n",
      "CB Objective =  80.0\n",
      "CB Iteration  3  : \n",
      "CB Objective =  202.5\n",
      "Solution status =  1\n",
      "optimal\n",
      "Objective value =  202.5\n",
      "Values          =  [40.0, 17.5, 42.5]\n",
      "Slacks          =  [0.0, 0.0]\n",
      "Duals           =  [2.75, 0.25]\n",
      "Reduced Costs   =  [3.5, -0.0, -0.0]\n"
     ]
    }
   ],
   "source": [
    "import cplex\n",
    "from cplex.callbacks import SimplexCallback\n",
    "\n",
    "\n",
    "class MyCallback(SimplexCallback):\n",
    "\n",
    "    def __call__(self):\n",
    "        print (\"CB Iteration \", self.get_num_iterations(), \" : \")\n",
    "        if self.is_primal_feasible():\n",
    "            print (\"CB Objective = \", self.get_objective_value())\n",
    "        else:\n",
    "            print (\"CB Infeasibility measure = \", self.get_primal_infeasibility())\n",
    "\n",
    "\n",
    "def populate_by_column(problem):\n",
    "    problem.objective.set_sense(problem.objective.sense.maximize)\n",
    "    problem.linear_constraints.add(rhs = [20.0, 30.0], senses = \"LL\")\n",
    "\n",
    "    cols = [[[0,1],[-1.0, 1.0]],\n",
    "            [[0,1],[ 1.0,-3.0]],\n",
    "            [[0,1],[ 1.0, 1.0]]]\n",
    "    \n",
    "    problem.variables.add(obj = [1.0, 2.0, 3.0],\n",
    "                          ub = [40.0, cplex.infinity, cplex.infinity],\n",
    "                          columns = cols)\n",
    "\n",
    "def lpex4():\n",
    "    problem = cplex.Cplex()\n",
    "    populate_by_column(problem)\n",
    "    problem.parameters.lpmethod.set(problem.parameters.lpmethod.values.primal)\n",
    "    problem.register_callback(MyCallback)\n",
    "\n",
    "    problem.solve()\n",
    "\n",
    "    solution = problem.solution\n",
    "    problem.write(\"lpex4.lp\")\n",
    "    # solution.get_status() returns an integer code\n",
    "    print (\"Solution status = \", solution.get_status())\n",
    "    print (solution.status[solution.get_status()])\n",
    "    print (\"Objective value = \", solution.get_objective_value())\n",
    "    print (\"Values          = \", solution.get_values(0, problem.variables.get_num()-1))\n",
    "    print (\"Slacks          = \", solution.get_linear_slacks(0, problem.linear_constraints.get_num()-1))        \n",
    "    print (\"Duals           = \", solution.get_dual_values(0, problem.linear_constraints.get_num()-1))    \n",
    "    print (\"Reduced Costs   = \", solution.get_reduced_costs(0, problem.variables.get_num()-1)) \n",
    "          \n",
    "lpex4()\n",
    "    \n",
    "\n"
   ]
  }
 ],
 "metadata": {
  "kernelspec": {
   "display_name": "Python 3",
   "language": "python",
   "name": "python3"
  }
 },
 "nbformat": 4,
 "nbformat_minor": 2
}
