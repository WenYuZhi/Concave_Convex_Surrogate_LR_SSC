{
 "cells": [
  {
   "cell_type": "code",
   "execution_count": 1,
   "metadata": {},
   "outputs": [
    {
     "name": "stdout",
     "output_type": "stream",
     "text": [
      "CPXPARAM_Simplex_Display                         2\n",
      "CPXPARAM_Read_DataCheck                          1\n",
      "CPXPARAM_LPMethod                                3\n",
      "Tried aggregator 1 time.\n",
      "No LP presolve or aggregator reductions.\n",
      "Presolve time = 0.00 sec. (0.00 ticks)\n",
      "Extracted network with 7 nodes and 12 arcs.\n",
      "Extraction time = 0.02 sec. (0.00 ticks)\n",
      "\n",
      "Iteration log . . .\n",
      "Iteration:     0   Infeasibility     =            11.000000 (11)\n",
      "\n",
      "Network - Optimal:  Objective =    5.0000000000e+00\n",
      "Network time = 0.00 sec. (0.00 ticks)  Iterations = 6 (5)\n",
      "After network optimization, objective is  5.0\n",
      "CPXPARAM_Simplex_Display                         2\n",
      "CPXPARAM_Read_DataCheck                          1\n",
      "CPXPARAM_LPMethod                                2\n",
      "Reinitializing dual norms . . .\n",
      "Computed 2 new norms.\n",
      "\n",
      "Iteration      Dual Objective            In Variable           Out Variable\n",
      "     1               5.800000                    x12               c8 artif\n"
     ]
    },
    {
     "name": "stderr",
     "output_type": "stream",
     "text": [
      "Default variable names x1, x2 ... being created.\n",
      "Default row names c1, c2 ... being created.\n"
     ]
    },
    {
     "name": "stdout",
     "output_type": "stream",
     "text": [
      "Solution status =  1\n",
      "optimal\n",
      "Solution value:    5.8\n",
      "Solution is:\n",
      "0 0.6\n",
      "1 0.0\n",
      "2 0.0\n",
      "3 1.0\n",
      "4 1.0\n",
      "5 2.4\n",
      "6 0.0\n",
      "7 1.0\n",
      "8 0.0\n",
      "9 0.0\n",
      "10 0.0\n",
      "11 0.4\n"
     ]
    }
   ],
   "source": [
    "import cplex\n",
    "\n",
    "def lpex3():\n",
    "    c = cplex.Cplex()\n",
    "    c.parameters.simplex.display.set(2)\n",
    "    c.parameters.read.datacheck.set(1)\n",
    "    c.linear_constraints.add(senses = \"EEEEEEE\",\n",
    "                             rhs = [-1.0, 4.0, 1.0, 1.0, -2.0, -2.0, -1.0])\n",
    "    flow = [[[1, 6], [ 1.0, -1.0]],\n",
    "            [[2, 6], [ 1.0, -1.0]],\n",
    "            [[3, 6], [ 1.0, -1.0]],\n",
    "            [[2, 5], [ 1.0, -1.0]],\n",
    "            [[3, 5], [ 1.0, -1.0]],\n",
    "            [[1, 4], [ 1.0, -1.0]],\n",
    "            [[2, 4], [ 1.0, -1.0]],\n",
    "            [[0, 1], [-1.0,  1.0]],\n",
    "            [[0, 2], [-1.0,  1.0]],\n",
    "            [[0, 3], [ 1.0, -1.0]],\n",
    "            [[4, 5], [-1.0,  1.0]],\n",
    "            [[4, 6], [ 1.0, -1.0]]]\n",
    "    \n",
    "    # lower bounds are set to their default value of 0.0\n",
    "    c.variables.add(obj = [1.0, 1.0, 1.0, 1.0, 1.0, 1.0,\n",
    "                           1.0, 0.0, 0.0, 0.0, 2.0, 2.0],\n",
    "                    ub  = [50.0] * 12, columns = flow)\n",
    "    c.parameters.lpmethod.set(c.parameters.lpmethod.values.network)\n",
    "    c.solve()\n",
    "    print (\"After network optimization, objective is \", c.solution.get_objective_value()) \n",
    "          \n",
    "    \n",
    "    cons = [[[10, 11], [2.0, 5.0]],\n",
    "            [[0, 2, 5], [1.0, 1.0, 1.0]]]\n",
    "    c.linear_constraints.add(lin_expr = cons, senses = \"EE\", rhs = [2.0, 3.0])\n",
    "    c.parameters.lpmethod.set(c.parameters.lpmethod.values.dual)\n",
    "    c.solve()\n",
    "\n",
    "    # solution.get_status() returns an integer code\n",
    "    print (\"Solution status = \" , c.solution.get_status())\n",
    "    # the following line prints the corresponding string\n",
    "    print (c.solution.status[c.solution.get_status()])\n",
    "    print (\"Solution value:   \",  c.solution.get_objective_value())\n",
    "    print (\"Solution is:\")\n",
    "    x = c.solution.get_values()\n",
    "    for j in range(c.variables.get_num()):\n",
    "        print (j, x[j])\n",
    "    c.write(\"lpex3.lp\")\n",
    "    \n",
    "lpex3()\n"
   ]
  }
 ],
 "metadata": {
  "kernelspec": {
   "display_name": "Python 3",
   "language": "python",
   "name": "python3"
  },
  "language_info": {
   "codemirror_mode": {
    "name": "ipython",
    "version": 3
   },
   "file_extension": ".py",
   "mimetype": "text/x-python",
   "name": "python",
   "nbconvert_exporter": "python",
   "pygments_lexer": "ipython3",
   "version": "3.6.3"
  }
 },
 "nbformat": 4,
 "nbformat_minor": 2
}
