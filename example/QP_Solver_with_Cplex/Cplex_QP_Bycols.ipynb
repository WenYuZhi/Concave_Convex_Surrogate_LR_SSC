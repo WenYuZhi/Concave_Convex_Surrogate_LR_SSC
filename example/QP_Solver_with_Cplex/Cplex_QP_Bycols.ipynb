{
 "cells": [
  {
   "cell_type": "code",
   "execution_count": 6,
   "metadata": {},
   "outputs": [
    {
     "name": "stdout",
     "output_type": "stream",
     "text": [
      "CPXPARAM_Read_DataCheck                          1\n",
      "Number of nonzeros in lower triangle of Q = 2\n",
      "Using Approximate Minimum Degree ordering\n",
      "Total time for automatic ordering = 0.00 sec. (0.00 ticks)\n",
      "Summary statistics for factor of Q:\n",
      "  Rows in Factor            = 3\n",
      "  Integer space required    = 3\n",
      "  Total non-zeros in factor = 6\n",
      "  Total FP ops to factor    = 14\n",
      "Tried aggregator 1 time.\n",
      "QP Presolve added 0 rows and 3 columns.\n",
      "Reduced QP has 5 rows, 6 columns, and 14 nonzeros.\n",
      "Reduced QP objective Q matrix has 3 nonzeros.\n",
      "Presolve time = 0.02 sec. (0.00 ticks)\n",
      "Parallel mode: using up to 8 threads for barrier.\n",
      "Number of nonzeros in lower triangle of A*A' = 9\n",
      "Using Approximate Minimum Degree ordering\n",
      "Total time for automatic ordering = 0.00 sec. (0.00 ticks)\n",
      "Summary statistics for Cholesky factor:\n",
      "  Threads                   = 8\n",
      "  Rows in Factor            = 5\n",
      "  Integer space required    = 5\n",
      "  Total non-zeros in factor = 15\n",
      "  Total FP ops to factor    = 55\n",
      " Itn      Primal Obj        Dual Obj  Prim Inf Upper Inf  Dual Inf          \n",
      "   0   1.0636929e+02   1.2031963e+05  3.00e+02  6.60e+01  2.02e+03\n",
      "   1  -4.1157907e+03   1.7614649e+04  1.02e+01  2.24e+00  6.84e+01\n",
      "   2  -5.6511245e+02   2.0824679e+03  3.24e-14  0.00e+00  1.17e-13\n",
      "   3  -1.3203408e+02   2.1266470e+02  1.95e-14  0.00e+00  2.13e-14\n",
      "   4  -1.4839967e+01   4.6015833e+01  1.07e-14  7.11e-15  9.96e-15\n",
      "   5   4.2770615e-01   7.0049365e+00  1.13e-14  0.00e+00  4.93e-15\n",
      "   6   1.9262135e+00   3.2629463e+00  1.13e-14  0.00e+00  1.04e-15\n",
      "   7   2.0138972e+00   2.2018172e+00  1.13e-14  0.00e+00  1.45e-15\n",
      "   8   2.0156025e+00   2.0388687e+00  4.55e-15  0.00e+00  1.73e-15\n",
      "   9   2.0156163e+00   2.0185181e+00  1.50e-14  0.00e+00  4.00e-16\n",
      "  10   2.0156165e+00   2.0159791e+00  4.66e-15  2.13e-14  8.70e-16\n",
      "  11   2.0156165e+00   2.0156618e+00  0.00e+00  1.42e-14  1.63e-15\n",
      "  12   2.0156165e+00   2.0156222e+00  7.66e-15  1.42e-14  9.62e-16\n",
      "  13   2.0156165e+00   2.0156172e+00  7.66e-15  7.11e-15  1.46e-15\n",
      "  14   2.0156165e+00   2.0156166e+00  8.99e-15  7.11e-15  1.08e-15\n",
      "  15   2.0156165e+00   2.0156165e+00  1.25e-14  0.00e+00  1.19e-15\n",
      "Barrier time = 0.05 sec. (0.04 ticks)\n",
      "\n",
      "Total time on 8 threads = 0.05 sec. (0.04 ticks)\n"
     ]
    },
    {
     "name": "stderr",
     "output_type": "stream",
     "text": [
      "Default row names c1, c2 ... being created.\n"
     ]
    },
    {
     "name": "stdout",
     "output_type": "stream",
     "text": [
      "Solution status =  1 : optimal\n",
      "Solution value  =  2.0156165232891574\n",
      "Row  0 :   Slack =  18.642254  Pi =   0.000000\n",
      "Row  1 :   Slack =  30.757886  Pi =   0.000000\n",
      "Column  0 :   Value =   0.139115  Reduced Cost =  -0.000000\n",
      "Column  1 :   Value =   0.598465  Reduced Cost =  -0.000000\n",
      "Column  2 :   Value =   0.898396  Reduced Cost =  -0.000000\n"
     ]
    }
   ],
   "source": [
    "from __future__ import print_function\n",
    "\n",
    "import cplex\n",
    "\n",
    "\n",
    "def setproblemdata(p):\n",
    "    p.objective.set_sense(p.objective.sense.maximize)\n",
    "\n",
    "    p.linear_constraints.add(rhs=[20.0, 30.0], senses=\"LL\")\n",
    "\n",
    "    obj = [1.0, 2.0, 3.0]\n",
    "    ub = [40.0, 40.0, 40.0]\n",
    "    cols = [[[0, 1], [-1.0, 1.0]],\n",
    "            [[0, 1], [1.0, -3.0]],\n",
    "            [[0, 1], [1.0, 1.0]]]\n",
    "\n",
    "    p.variables.add(obj=obj, ub=ub, columns=cols,\n",
    "                    names=[\"one\", \"two\", \"three\"])\n",
    "\n",
    "    qmat = [[[0, 1], [-33.0, 6.0]],\n",
    "            [[0, 1, 2], [6.0, -22.0, 11.5]],\n",
    "            [[1, 2], [11.5, -11.0]]]\n",
    "\n",
    "    p.objective.set_quadratic(qmat)\n",
    "\n",
    "\n",
    "def qpex1():\n",
    "    p = cplex.Cplex()\n",
    "    setproblemdata(p)\n",
    "\n",
    "    p.solve()\n",
    "\n",
    "    # solution.get_status() returns an integer code\n",
    "    print(\"Solution status = \", p.solution.get_status(), \":\", end=' ')\n",
    "    # the following line prints the corresponding string\n",
    "    print(p.solution.status[p.solution.get_status()])\n",
    "    print(\"Solution value  = \", p.solution.get_objective_value())\n",
    "\n",
    "    numrows = p.linear_constraints.get_num()\n",
    "\n",
    "    for i in range(numrows):\n",
    "        print(\"Row \", i, \":  \", end=' ')\n",
    "        print(\"Slack = %10f \" % p.solution.get_linear_slacks(i), end=' ')\n",
    "        print(\"Pi = %10f\" % p.solution.get_dual_values(i))\n",
    "\n",
    "    numcols = p.variables.get_num()\n",
    "\n",
    "    for j in range(numcols):\n",
    "        print(\"Column \", j, \":  \", end=' ')\n",
    "        print(\"Value = %10f \" % p.solution.get_values(j), end=' ')\n",
    "        print(\"Reduced Cost = %10f\" % p.solution.get_reduced_costs(j))\n",
    "    p.write('qpex1bycolumns.lp')\n",
    "\n",
    "qpex1()\n"
   ]
  }
 ],
 "metadata": {
  "kernelspec": {
   "display_name": "Python 3",
   "language": "python",
   "name": "python3"
  },
  "language_info": {
   "codemirror_mode": {
    "name": "ipython",
    "version": 3
   },
   "file_extension": ".py",
   "mimetype": "text/x-python",
   "name": "python",
   "nbconvert_exporter": "python",
   "pygments_lexer": "ipython3",
   "version": "3.6.5"
  }
 },
 "nbformat": 4,
 "nbformat_minor": 2
}
