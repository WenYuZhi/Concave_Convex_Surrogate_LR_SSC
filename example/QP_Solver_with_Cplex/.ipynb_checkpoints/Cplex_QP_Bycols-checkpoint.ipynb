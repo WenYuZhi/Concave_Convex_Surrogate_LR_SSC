{
 "cells": [
  {
   "cell_type": "code",
   "execution_count": 4,
   "metadata": {},
   "outputs": [
    {
     "name": "stdout",
     "output_type": "stream",
     "text": [
      "CPXPARAM_Read_DataCheck                          1\n",
      "Number of nonzeros in lower triangle of Q = 2\n",
      "Using Approximate Minimum Degree ordering\n",
      "Total time for automatic ordering = 0.00 sec. (0.00 ticks)\n",
      "Summary statistics for factor of Q:\n",
      "  Rows in Factor            = 3\n",
      "  Integer space required    = 3\n",
      "  Total non-zeros in factor = 6\n",
      "  Total FP ops to factor    = 14\n",
      "Tried aggregator 1 time.\n",
      "QP Presolve eliminated 0 rows and 2 columns.\n",
      "QP Presolve added 0 rows and 3 columns.\n",
      "Reduced QP has 5 rows, 6 columns, and 14 nonzeros.\n",
      "Reduced QP objective Q matrix has 3 nonzeros.\n",
      "Presolve time = 0.01 sec. (0.00 ticks)\n",
      "Parallel mode: using up to 8 threads for barrier.\n",
      "Number of nonzeros in lower triangle of A*A' = 9\n",
      "Using Approximate Minimum Degree ordering\n",
      "Total time for automatic ordering = 0.00 sec. (0.00 ticks)\n",
      "Summary statistics for Cholesky factor:\n",
      "  Threads                   = 8\n",
      "  Rows in Factor            = 5\n",
      "  Integer space required    = 5\n",
      "  Total non-zeros in factor = 15\n",
      "  Total FP ops to factor    = 55\n",
      " Itn      Primal Obj        Dual Obj  Prim Inf Upper Inf  Dual Inf          \n",
      "   0  -3.3153556e+03   1.2374136e+05  3.76e+02  6.60e+01  9.22e+01\n",
      "   1  -6.3711763e+03   7.3396139e+03  8.35e-14  0.00e+00  3.98e-13\n",
      "   2  -4.4428246e+03  -3.0259071e+03  1.95e-14  1.78e-15  2.86e-13\n",
      "   3  -3.7940497e+03  -3.6858116e+03  4.62e-14  1.78e-15  6.08e-14\n",
      "   4  -3.7701182e+03  -3.7694436e+03  1.31e-13  7.11e-15  1.20e-13\n",
      "   5  -3.7700187e+03  -3.7699063e+03  2.24e-13  7.11e-15  1.23e-13\n",
      "   6  -3.7700031e+03  -3.7699844e+03  1.78e-14  7.11e-15  8.81e-14\n",
      "   7  -3.7700005e+03  -3.7699974e+03  1.42e-14  1.78e-15  1.59e-13\n",
      "   8  -3.7700001e+03  -3.7699996e+03  1.78e-14  7.11e-15  1.13e-13\n",
      "   9  -3.7700000e+03  -3.7699999e+03  3.02e-14  0.00e+00  6.22e-14\n",
      "  10  -3.7700000e+03  -3.7700000e+03  3.55e-15  7.11e-15  6.83e-14\n",
      "Barrier time = 0.05 sec. (0.03 ticks)\n",
      "\n",
      "Total time on 8 threads = 0.05 sec. (0.03 ticks)\n"
     ]
    },
    {
     "name": "stderr",
     "output_type": "stream",
     "text": [
      "Default row names c1, c2 ... being created.\n"
     ]
    },
    {
     "name": "stdout",
     "output_type": "stream",
     "text": [
      "Solution status =  1 : optimal\n",
      "Solution value  =  -3770.000002409514\n",
      "Row  0 :   Slack =   0.000000  Pi = -54.000000\n",
      "Row  1 :   Slack =   0.000000  Pi = -218.000000\n",
      "Column  0 :   Value =   5.000000  Reduced Cost =  -0.000000\n",
      "Column  1 :   Value =   0.000000  Reduced Cost = -280.500000\n",
      "Column  2 :   Value =  25.000000  Reduced Cost =   0.000000\n"
     ]
    }
   ],
   "source": [
    "from __future__ import print_function\n",
    "\n",
    "import cplex\n",
    "\n",
    "\n",
    "def setproblemdata(p):\n",
    "    p.objective.set_sense(p.objective.sense.maximize)\n",
    "\n",
    "    p.linear_constraints.add(rhs=[20.0, 30.0], senses=\"LL\")\n",
    "\n",
    "    obj = [1.0, 2.0, 3.0]\n",
    "    ub = [40.0, 40.0, 40.0]\n",
    "    cols = [[[0, 1], [-1.0, 1.0]],\n",
    "            [[0, 1], [1.0, -3.0]],\n",
    "            [[0, 1], [1.0, 1.0]]]\n",
    "\n",
    "    p.variables.add(obj=obj, ub=ub, columns=cols,\n",
    "                    names=[\"one\", \"two\", \"three\"])\n",
    "\n",
    "    qmat = [[[0, 1], [-33.0, 6.0]],\n",
    "            [[0, 1, 2], [6.0, -22.0, 11.5]],\n",
    "            [[1, 2], [11.5, -11.0]]]\n",
    "\n",
    "    p.objective.set_quadratic(qmat)\n",
    "\n",
    "\n",
    "def qpex1():\n",
    "    p = cplex.Cplex()\n",
    "    setproblemdata(p)\n",
    "\n",
    "    p.solve()\n",
    "\n",
    "    # solution.get_status() returns an integer code\n",
    "    print(\"Solution status = \", p.solution.get_status(), \":\", end=' ')\n",
    "    # the following line prints the corresponding string\n",
    "    print(p.solution.status[p.solution.get_status()])\n",
    "    print(\"Solution value  = \", p.solution.get_objective_value())\n",
    "\n",
    "    numrows = p.linear_constraints.get_num()\n",
    "\n",
    "    for i in range(numrows):\n",
    "        print(\"Row \", i, \":  \", end=' ')\n",
    "        print(\"Slack = %10f \" % p.solution.get_linear_slacks(i), end=' ')\n",
    "        print(\"Pi = %10f\" % p.solution.get_dual_values(i))\n",
    "\n",
    "    numcols = p.variables.get_num()\n",
    "\n",
    "    for j in range(numcols):\n",
    "        print(\"Column \", j, \":  \", end=' ')\n",
    "        print(\"Value = %10f \" % p.solution.get_values(j), end=' ')\n",
    "        print(\"Reduced Cost = %10f\" % p.solution.get_reduced_costs(j))\n",
    "    p.write('qpex1bycolumns.lp')\n",
    "\n",
    "qpex1()\n"
   ]
  }
 ],
 "metadata": {
  "kernelspec": {
   "display_name": "Python 3",
   "language": "python",
   "name": "python3"
  },
  "language_info": {
   "codemirror_mode": {
    "name": "ipython",
    "version": 3
   },
   "file_extension": ".py",
   "mimetype": "text/x-python",
   "name": "python",
   "nbconvert_exporter": "python",
   "pygments_lexer": "ipython3",
   "version": "3.6.5"
  }
 },
 "nbformat": 4,
 "nbformat_minor": 2
}
